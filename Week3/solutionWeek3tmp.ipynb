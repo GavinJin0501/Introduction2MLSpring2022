{
 "cells": [
  {
   "cell_type": "markdown",
   "metadata": {},
   "source": [
    "### Programming Session Week 3\n",
    "\n",
    "In this session we will continue to work on regression and we will extend our toolbox to include an additional set of classification methods. "
   ]
  },
  {
   "cell_type": "markdown",
   "metadata": {},
   "source": [
    "### Exercise 1\n",
    "\n",
    "#### Exercise 1.a\n",
    "\n",
    "The model below was generated using a degree 2 polynomial. Study the evolution of the MSE for various degrees from 1 to 5 and by generating your training and test sets as noisy samples from the true quadratic function. Use $K$-fold cross validation to retrieve the correct model complexity out the possible maximum degrees."
   ]
  },
  {
   "cell_type": "code",
   "execution_count": 1,
   "metadata": {},
   "outputs": [
    {
     "data": {
      "text/plain": "<Figure size 432x288 with 1 Axes>",
      "image/png": "[encoded data removed]"
     },
     "metadata": {
      "needs_background": "light"
     },
     "output_type": "display_data"
    }
   ],
   "source": [
    "import numpy as np\n",
    "import matplotlib.pyplot as plt\n",
    "\n",
    "\n",
    "x_true = np.linspace(0,1,100)\n",
    "\n",
    "\n",
    "num_points = 50\n",
    "\n",
    "x_sample = np.linspace(0,1,num_points)\n",
    "t_true = 0.1 + 0.1*x_true + x_true**2\n",
    "t_sample = 0.1 + 0.1*x_sample + x_sample**2\n",
    "t_sample = t_sample + np.random.normal(0,.1,len(x_sample))\n",
    "\n",
    "plt.plot(x_true, t_true)\n",
    "plt.scatter(x_sample, t_sample, c='r')\n",
    "plt.show()\n"
   ]
  },
  {
   "cell_type": "code",
   "execution_count": 2,
   "metadata": {},
   "outputs": [],
   "source": [
    "from sklearn.preprocessing import PolynomialFeatures\n",
    "\n",
    "# cross validation with K=2\n",
    "\n",
    "poly = PolynomialFeatures(5)\n",
    "\n",
    "featureMatrix = poly.fit_transform(x_sample.reshape(-1,1))\n",
    "\n",
    "CV_size = num_points/2"
   ]
  },
  {
   "cell_type": "code",
   "execution_count": 3,
   "metadata": {},
   "outputs": [
    {
     "ename": "NameError",
     "evalue": "name 'columns' is not defined",
     "output_type": "error",
     "traceback": [
      "\u001B[0;31m---------------------------------------------------------------------------\u001B[0m",
      "\u001B[0;31mNameError\u001B[0m                                 Traceback (most recent call last)",
      "\u001B[0;32m/var/folders/4t/xbxccjh13tn9x9739c4pcqlw0000gn/T/ipykernel_11032/929872365.py\u001B[0m in \u001B[0;36m<module>\u001B[0;34m\u001B[0m\n\u001B[1;32m      1\u001B[0m \u001B[0;32mimport\u001B[0m \u001B[0mitertools\u001B[0m\u001B[0;34m\u001B[0m\u001B[0;34m\u001B[0m\u001B[0m\n\u001B[1;32m      2\u001B[0m \u001B[0;34m\u001B[0m\u001B[0m\n\u001B[0;32m----> 3\u001B[0;31m \u001B[0msubsets\u001B[0m \u001B[0;34m=\u001B[0m \u001B[0mitertools\u001B[0m\u001B[0;34m.\u001B[0m\u001B[0mcombinations\u001B[0m\u001B[0;34m(\u001B[0m\u001B[0mcolumns\u001B[0m\u001B[0;34m,\u001B[0m \u001B[0;36m3\u001B[0m\u001B[0;34m)\u001B[0m\u001B[0;34m\u001B[0m\u001B[0;34m\u001B[0m\u001B[0m\n\u001B[0m\u001B[1;32m      4\u001B[0m \u001B[0;34m\u001B[0m\u001B[0m\n\u001B[1;32m      5\u001B[0m \u001B[0;34m\u001B[0m\u001B[0m\n",
      "\u001B[0;31mNameError\u001B[0m: name 'columns' is not defined"
     ]
    }
   ],
   "source": [
    "import itertools\n",
    "\n",
    "subsets = itertools.combinations(columns, 3)\n",
    "\n",
    "\n",
    "X = np.ones((10,10))\n",
    "for k in list(subsets)[0]:\n",
    "    \n",
    "    X[:,k]\n",
    "    \n",
    "    "
   ]
  },
  {
   "cell_type": "code",
   "execution_count": null,
   "metadata": {},
   "outputs": [],
   "source": [
    "import itertools\n",
    "\n",
    "from sklearn.linear_model import LinearRegression\n",
    "\n",
    "\n",
    "\n",
    "for subset_sizes in np.arange(2,6):\n",
    "    \n",
    "    columns = np.arange(1,6)\n",
    "    \n",
    "    subsets = list(itertools.combinations(columns, k))\n",
    "    \n",
    "    for subset in subsets:\n",
    "        \n",
    "        for numXP in np.arange(2):\n",
    "            \n",
    "            featureMat_tmp = X[numXp*CV_size : (numXp+1)*CV_size, :]\n",
    "            \n",
    "            features_subset = np.zeros((np.shape(featureMat_tmp)[0], subset_sizes))\n",
    "            \n",
    "            l = 0\n",
    "            for k in subset:\n",
    "                \n",
    "                features_subset[:,l] = featureMat_tmp[:,k]\n",
    "                l+=1\n",
    "            \n",
    "            reg = LinearRegression().fit(features_subset, t_sample[numXp*CV_size : \\\n",
    "                                                                   (numXp+1)*CV_size])\n",
    "            \n",
    "        \n",
    "            "
   ]
  },
  {
   "cell_type": "markdown",
   "metadata": {},
   "source": [
    "### Exercise 2\n",
    "\n",
    "#### Exercise 2.a\n",
    "\n",
    "Using the OLS loss, try to learn a classifier for the dataset given below. "
   ]
  },
  {
   "cell_type": "code",
   "execution_count": null,
   "metadata": {},
   "outputs": [],
   "source": [
    "\n",
    "import scipy.io\n",
    "import matplotlib.pyplot as plt\n",
    "\n",
    "data_class1 = scipy.io.loadmat('points_class1_Lab2_Ex1.mat')['points_class1_Lab2_Ex1']\n",
    "data_class2 = scipy.io.loadmat('points_class2_Lab2_Ex1.mat')['points_class2_Lab2_Ex1']\n",
    "\n",
    "plt.scatter(data_class1[:,0], data_class1[:,1])\n",
    "plt.scatter(data_class2[:,0], data_class2[:,1])\n",
    "plt.show()"
   ]
  },
  {
   "cell_type": "markdown",
   "metadata": {},
   "source": [
    "#### Exercise 2.b\n",
    "\n",
    "How could you extend your classifier to the dataset shown below."
   ]
  },
  {
   "cell_type": "code",
   "execution_count": null,
   "metadata": {},
   "outputs": [],
   "source": [
    "\n",
    "import scipy.io\n",
    "import matplotlib.pyplot as plt\n",
    "\n",
    "data_class1 = scipy.io.loadmat('points_class1_Lab2_Ex2.mat')['points_class1_Lab2_Ex2']\n",
    "data_class2 = scipy.io.loadmat('points_class2_Lab2_Ex2.mat')['points_class2_Lab2_Ex2']\n",
    "\n",
    "plt.scatter(data_class1[:,0], data_class1[:,1])\n",
    "plt.scatter(data_class2[:,0], data_class2[:,1])\n",
    "plt.show()"
   ]
  },
  {
   "cell_type": "markdown",
   "metadata": {},
   "source": [
    "#### Exercise 2.c\n",
    "\n",
    "We now want to use the OLS to learn a multi-class classifier for the dataset below. Start by coding the one-vs-one and one-vs-rest classifiers. Then use the a single \n",
    " discriminant function with one hot encoding of the classes.\n",
    "    "
   ]
  },
  {
   "cell_type": "code",
   "execution_count": null,
   "metadata": {},
   "outputs": [],
   "source": [
    "import scipy.io\n",
    "import matplotlib.pyplot as plt\n",
    "\n",
    "data_class1 = scipy.io.loadmat('points_class1_Lab2_Ex3.mat')['points_class1_Lab2_Ex3']\n",
    "data_class2 = scipy.io.loadmat('points_class2_Lab2_Ex3.mat')['points_class2_Lab2_Ex3']\n",
    "data_class3 = scipy.io.loadmat('points_class3_Lab2_Ex3.mat')['points_class3_Lab2_Ex3']\n",
    "data_class4 = scipy.io.loadmat('points_class4_Lab2_Ex3.mat')['points_class4_Lab2_Ex3']\n",
    "data_class5 = scipy.io.loadmat('points_class5_Lab2_Ex3.mat')['points_class5_Lab2_Ex3']\n",
    "\n",
    "\n",
    "\n",
    "plt.scatter(data_class1[:,0], data_class1[:,1])\n",
    "plt.scatter(data_class2[:,0], data_class2[:,1])\n",
    "plt.scatter(data_class3[:,0], data_class3[:,1])\n",
    "plt.scatter(data_class4[:,0], data_class4[:,1])\n",
    "plt.scatter(data_class5[:,0], data_class5[:,1])\n",
    "plt.show()"
   ]
  },
  {
   "cell_type": "markdown",
   "metadata": {},
   "source": [
    "### Exercise 3. \n",
    "\n",
    "#### Exercise 3.a \n",
    "\n",
    "Use the OLS classifier from scikit-learn to classify the flowers from the [iris dataset](https://www.kaggle.com/uciml/iris) into the 3 species. Don't forget to split your dataset into a training and a test part so that you evaluate it properly once it has been trained (you can rely on scikit learn's train_test_split function)\n",
    "    "
   ]
  },
  {
   "cell_type": "code",
   "execution_count": null,
   "metadata": {},
   "outputs": [],
   "source": [
    "import numpy as np\n",
    "from sklearn.linear_model import LinearRegression\n",
    "from sklearn.model_selection import train_test_split\n",
    "\n"
   ]
  },
  {
   "cell_type": "markdown",
   "metadata": {},
   "source": [
    "#### Exercise 3.a \n",
    "Do the same with the [https://www.kaggle.com/c/titanic](titanic dataset) and try to learn a model that can efficiently predict which passengers are going to survive the wreck. "
   ]
  },
  {
   "cell_type": "code",
   "execution_count": null,
   "metadata": {},
   "outputs": [],
   "source": [
    "import numpy as np\n",
    "from sklearn.linear_model import LinearRegression\n",
    "from sklearn.model_selection import train_test_split\n",
    "\n"
   ]
  },
  {
   "cell_type": "markdown",
   "metadata": {},
   "source": [
    "### Exercise 4. \n",
    "\n",
    "#### Exercise 4.a \n",
    "\n",
    "In this 4th exercise, we will study the robustness of the OLS approach for classification. Consider the dataset below. \n",
    "\n",
    "- Start by learning a simple binary OLS classifier on that dataset (you can use the linear_regression model from scikit-learn). \n",
    "- Then try to force misclassification by adding a blue point on the far left of the dataset. \n",
    "- Once your updated dataset can be used to highlight misclassification by the OLS, replace the OLS classifier with the logistic regression classifier from scikit learn (on the same dataset). What do you notice ?\n"
   ]
  },
  {
   "cell_type": "code",
   "execution_count": null,
   "metadata": {},
   "outputs": [],
   "source": [
    "\n",
    "import scipy.io\n",
    "import matplotlib.pyplot as plt\n",
    "\n",
    "data_class1 = scipy.io.loadmat('points_class1_Lab2_Ex4.mat')['points_class1_Lab2_Ex4']\n",
    "data_class2 = scipy.io.loadmat('points_class2_Lab2_Ex4.mat')['points_class2_Lab2_Ex4']\n",
    "\n",
    "plt.scatter(data_class1[:,0], data_class1[:,1])\n",
    "plt.scatter(data_class2[:,0], data_class2[:,1])\n",
    "plt.show()"
   ]
  },
  {
   "cell_type": "code",
   "execution_count": null,
   "metadata": {},
   "outputs": [],
   "source": [
    "import numpy as np\n",
    "outlier = np.asarray([-10, 0.5])\n",
    "\n",
    "data_class1b = np.vstack((outlier,data_class1))\n",
    "\n",
    "plt.scatter(data_class1b[:,0], data_class1b[:,1])\n",
    "plt.scatter(data_class2[:,0], data_class2[:,1])\n",
    "plt.show()\n",
    "\n"
   ]
  },
  {
   "cell_type": "code",
   "execution_count": null,
   "metadata": {},
   "outputs": [],
   "source": [
    "targets_class1 = np.ones((np.shape(data_class1b)[0], 1))\n",
    "targets_class2 = 0*np.ones((np.shape(data_class2)[0], 1))\n",
    "\n",
    "\n",
    "data = np.vstack((data_class1b, data_class2))\n",
    "targets = np.vstack((targets_class1, targets_class2))\n",
    "\n",
    "print(np.shape(data))\n",
    "print(np.shape(targets))\n",
    "\n",
    "from sklearn.linear_model import LinearRegression\n",
    "\n",
    "reg = LinearRegression().fit(data, targets)\n",
    "\n"
   ]
  },
  {
   "cell_type": "code",
   "execution_count": null,
   "metadata": {},
   "outputs": [],
   "source": [
    "x1_min = np.min(data[:,0])\n",
    "x1_max = np.max(data[:,0])\n",
    "x2_min = np.min(data[:,1])\n",
    "x2_max = np.max(data[:,1])\n",
    "\n",
    "xx1 = np.linspace(x1_min, x1_max, 1000)\n",
    "xx2 = np.linspace(x2_min, x2_max, 1000)\n",
    "\n",
    "xx1grid, xx2grid = np.meshgrid(xx1, xx2)\n",
    "\n",
    "Xprediction = np.vstack((xx1grid.flatten(), xx2grid.flatten())).T\n",
    "\n",
    "\n",
    "prediction = reg.predict(Xprediction)\n",
    "\n",
    "from matplotlib.colors import ListedColormap\n",
    "cm_bright = ListedColormap([\"#0000FF\", \"#FF0000\"])\n",
    "\n",
    "\n",
    "\n",
    "plt.scatter(data_class1b[:,0], data_class1b[:,1], c = 'r')\n",
    "plt.scatter(data_class2[:,0], data_class2[:,1], c='b')\n",
    "plt.contourf(xx1grid, xx2grid, np.reshape(prediction>0.5, np.shape(xx1grid)),cmap=cm_bright, alpha=0.2)\n",
    "plt.show()\n",
    "\n",
    "\n",
    "\n",
    "\n",
    "\n"
   ]
  },
  {
   "cell_type": "code",
   "execution_count": null,
   "metadata": {},
   "outputs": [],
   "source": [
    "from sklearn.linear_model import LogisticRegression\n",
    "\n",
    "clf = LogisticRegression(random_state=0).fit(data, targets)\n",
    "\n",
    "prediction = clf.predict(Xprediction)\n",
    "\n",
    "plt.scatter(data_class1b[:,0], data_class1b[:,1], c = 'r')\n",
    "plt.scatter(data_class2[:,0], data_class2[:,1], c='b')\n",
    "plt.contourf(xx1grid, xx2grid, np.reshape(prediction>0.5, np.shape(xx1grid)), cmap=cm_bright, alpha=0.2)        \n",
    "plt.show()\n"
   ]
  }
 ],
 "metadata": {
  "kernelspec": {
   "display_name": "Python 3",
   "language": "python",
   "name": "python3"
  },
  "language_info": {
   "codemirror_mode": {
    "name": "ipython",
    "version": 3
   },
   "file_extension": ".py",
   "mimetype": "text/x-python",
   "name": "python",
   "nbconvert_exporter": "python",
   "pygments_lexer": "ipython3",
   "version": "3.8.5"
  }
 },
 "nbformat": 4,
 "nbformat_minor": 4
}